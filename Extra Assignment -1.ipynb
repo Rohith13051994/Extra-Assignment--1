{
 "cells": [
  {
   "cell_type": "code",
   "execution_count": 2,
   "id": "870b8c50-48fb-4f0d-bb43-007d07ac4758",
   "metadata": {},
   "outputs": [
    {
     "name": "stdout",
     "output_type": "stream",
     "text": [
      "HOPE AI\n"
     ]
    }
   ],
   "source": [
    "#print Statement\n",
    "\n",
    "print(\"HOPE AI\")"
   ]
  },
  {
   "cell_type": "code",
   "execution_count": 4,
   "id": "e47dd0af-8f7f-4555-ad54-a58743c695b6",
   "metadata": {},
   "outputs": [
    {
     "name": "stdin",
     "output_type": "stream",
     "text": [
      "Enter your institute name? : HOPE AI\n"
     ]
    }
   ],
   "source": [
    "# Buy input \n",
    "\n",
    "Institute_Name=input(\"Enter your institute name? :\")"
   ]
  },
  {
   "cell_type": "code",
   "execution_count": 6,
   "id": "8a951e08-7c2c-4dc6-86e3-970f928985ac",
   "metadata": {},
   "outputs": [
    {
     "name": "stdin",
     "output_type": "stream",
     "text": [
      "Enter your name: Rohith\n",
      "Enter your age: 30\n",
      "Enter your school name: Jawahar School\n",
      "Enter your drgree: B.E EIE\n"
     ]
    }
   ],
   "source": [
    "#Buy inputs\n",
    "\n",
    "Name=input(\"Enter your name:\")\n",
    "Age=input(\"Enter your age:\")\n",
    "School_name=input(\"Enter your school name:\")\n",
    "Degree=input(\"Enter your drgree:\")"
   ]
  },
  {
   "cell_type": "code",
   "execution_count": 10,
   "id": "84a65d3d-7f07-4c1d-8907-0cf96eec70a0",
   "metadata": {},
   "outputs": [
    {
     "name": "stdout",
     "output_type": "stream",
     "text": [
      "a= 43\n",
      "b= 34\n",
      "add = 77\n"
     ]
    }
   ],
   "source": [
    "#Addition\n",
    "\n",
    "a=43\n",
    "print(\"a=\", a)\n",
    "b=34\n",
    "print(\"b=\", b)\n",
    "add=a+b\n",
    "print(\"add =\", add)"
   ]
  },
  {
   "cell_type": "code",
   "execution_count": 12,
   "id": "73376fd9-d121-46b9-952b-4fbf4a34d02d",
   "metadata": {},
   "outputs": [
    {
     "name": "stdout",
     "output_type": "stream",
     "text": [
      "a= 43\n",
      "b= 34\n",
      "Sub = 9\n"
     ]
    }
   ],
   "source": [
    "#Subtraction\n",
    "\n",
    "a=43\n",
    "print(\"a=\", a)\n",
    "b=34\n",
    "print(\"b=\", b)\n",
    "Sub=a-b\n",
    "print(\"Sub =\", Sub)"
   ]
  },
  {
   "cell_type": "code",
   "execution_count": 16,
   "id": "7ec6fb9b-d12f-4a76-9e40-eeb9e6f911ba",
   "metadata": {},
   "outputs": [
    {
     "name": "stdout",
     "output_type": "stream",
     "text": [
      "a= 63\n",
      "b= 97\n",
      "Mul = 6111\n"
     ]
    }
   ],
   "source": [
    "#Multiplication\n",
    "\n",
    "a=63\n",
    "print(\"a=\", a)\n",
    "b=97\n",
    "print(\"b=\", b)\n",
    "Mul=a*b\n",
    "print(\"Mul =\", Mul)"
   ]
  },
  {
   "cell_type": "code",
   "execution_count": 24,
   "id": "f3e03fdd-396c-4721-a9e0-512b6a041540",
   "metadata": {},
   "outputs": [
    {
     "name": "stdout",
     "output_type": "stream",
     "text": [
      "a= 76\n",
      "b= 31\n",
      "Float Div = 2.4516129032258065\n"
     ]
    }
   ],
   "source": [
    "#Division\n",
    "\n",
    "a=76\n",
    "print(\"a=\", a)\n",
    "b=31\n",
    "print(\"b=\", b)\n",
    "Div=float(a/b)\n",
    "print(\"Float Div =\", Div)"
   ]
  },
  {
   "cell_type": "code",
   "execution_count": 26,
   "id": "712778a4-959d-4f5c-9d62-8af584d7c801",
   "metadata": {},
   "outputs": [
    {
     "name": "stdout",
     "output_type": "stream",
     "text": [
      "a= 76\n",
      "b= 31\n",
      "Floor Div = 2\n"
     ]
    }
   ],
   "source": [
    "#Floor division\n",
    "\n",
    "a=76\n",
    "print(\"a=\", a)\n",
    "b=31\n",
    "print(\"b=\", b)\n",
    "Div=a//b\n",
    "print(\"Floor Div =\", Div)"
   ]
  },
  {
   "cell_type": "code",
   "execution_count": 30,
   "id": "c03ee548-f6c3-40ed-b81a-3b6f5dab6dca",
   "metadata": {},
   "outputs": [
    {
     "name": "stdout",
     "output_type": "stream",
     "text": [
      "a= 76\n",
      "b= 31\n",
      "Modulo = 14\n"
     ]
    }
   ],
   "source": [
    "#Modulo\n",
    "\n",
    "a=76\n",
    "print(\"a=\", a)\n",
    "b=31\n",
    "print(\"b=\", b)\n",
    "Modulo=a%b\n",
    "print(\"Modulo =\", Modulo)"
   ]
  },
  {
   "cell_type": "code",
   "execution_count": 32,
   "id": "1ba96a6f-48c5-4cfd-8d4f-0392eee8d5e3",
   "metadata": {},
   "outputs": [
    {
     "name": "stdout",
     "output_type": "stream",
     "text": [
      "a= 4\n",
      "b= 4\n",
      "Power = 256\n"
     ]
    }
   ],
   "source": [
    "#Power\n",
    "\n",
    "a=4\n",
    "print(\"a=\", a)\n",
    "b=4\n",
    "print(\"b=\", b)\n",
    "c=pow(a,b)\n",
    "print(\"Power =\", c)"
   ]
  },
  {
   "cell_type": "code",
   "execution_count": null,
   "id": "ca1ecf1e-1e87-40f0-a966-701936626601",
   "metadata": {},
   "outputs": [],
   "source": []
  }
 ],
 "metadata": {
  "kernelspec": {
   "display_name": "Python 3 (ipykernel)",
   "language": "python",
   "name": "python3"
  },
  "language_info": {
   "codemirror_mode": {
    "name": "ipython",
    "version": 3
   },
   "file_extension": ".py",
   "mimetype": "text/x-python",
   "name": "python",
   "nbconvert_exporter": "python",
   "pygments_lexer": "ipython3",
   "version": "3.11.7"
  }
 },
 "nbformat": 4,
 "nbformat_minor": 5
}
